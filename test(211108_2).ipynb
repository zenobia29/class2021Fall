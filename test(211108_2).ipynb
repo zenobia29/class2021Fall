{
  "nbformat": 4,
  "nbformat_minor": 0,
  "metadata": {
    "colab": {
      "name": "test(211108-2).ipynb",
      "provenance": [],
      "collapsed_sections": [],
      "authorship_tag": "ABX9TyP6q8xx+Ma+vpKsZNnscDKO",
      "include_colab_link": true
    },
    "kernelspec": {
      "name": "python3",
      "display_name": "Python 3"
    },
    "language_info": {
      "name": "python"
    }
  },
  "cells": [
    {
      "cell_type": "markdown",
      "metadata": {
        "id": "view-in-github",
        "colab_type": "text"
      },
      "source": [
        "<a href=\"https://colab.research.google.com/github/zenobia29/class2021Fall/blob/main/test(211108_2).ipynb\" target=\"_parent\"><img src=\"https://colab.research.google.com/assets/colab-badge.svg\" alt=\"Open In Colab\"/></a>"
      ]
    },
    {
      "cell_type": "markdown",
      "metadata": {
        "id": "X-OwWiCt8WGv"
      },
      "source": [
        "변수 (variables), 제어문 (syntax), 함수"
      ]
    },
    {
      "cell_type": "code",
      "metadata": {
        "colab": {
          "base_uri": "https://localhost:8080/"
        },
        "id": "Ph-UGP8B-Gjv",
        "outputId": "8fd42be4-fa3f-4cea-afde-134866859923"
      },
      "source": [
        "a=1\n",
        "b=1.1\n",
        "c='hello'\n",
        "d=[1,'abc',2.1]\n",
        "e={\"apple\":\"red fruit\",\"banana\":\"yellow fruit\"}\n",
        "\n",
        "# print(a)\n",
        "# print(b)\n",
        "\n",
        "#print(type(a)) =int(integer)\n",
        "#print(type(b)) =float\n",
        "#print(type(c)) =str\n",
        "#print(type(d)) =list\n",
        "#print(type(e)) =dictionary\n",
        "\n",
        "print(e[\"apple\"])"
      ],
      "execution_count": 33,
      "outputs": [
        {
          "output_type": "stream",
          "name": "stdout",
          "text": [
            "red fruit\n"
          ]
        }
      ]
    }
  ]
}